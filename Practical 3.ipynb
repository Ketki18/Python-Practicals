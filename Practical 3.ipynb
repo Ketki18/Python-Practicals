{
 "cells": [
  {
   "cell_type": "markdown",
   "id": "b94bdc93",
   "metadata": {},
   "source": [
    "Python code for Temperature converter using classes and objects concepts.\n",
    "    "
   ]
  },
  {
   "cell_type": "code",
   "execution_count": 15,
   "id": "378fde30",
   "metadata": {},
   "outputs": [
    {
     "name": "stdout",
     "output_type": "stream",
     "text": [
      "enter temp in celsius: 37\n",
      "converted to fahreinheit:  98.6\n",
      "enter temp in fahrenheit:  99\n",
      "converted to celcius:  37.22222222222222\n"
     ]
    }
   ],
   "source": [
    "class temp:\n",
    "    \n",
    "    def __init__(self,temp):\n",
    "        self.temp=temp\n",
    "    def calci1(self):\n",
    "        f=(self.temp*9/5)+32\n",
    "        return f\n",
    "    def calci2(self):\n",
    "        c=(self.temp-32)*5/9\n",
    "        return c\n",
    "    \n",
    "cel=float(input(\"enter temp in celsius: \"))\n",
    "t1=temp(cel)\n",
    "print(\"converted to fahreinheit: \",t1.calci1())\n",
    "\n",
    "fah=float(input(\"enter temp in fahrenheit:  \"))\n",
    "t2=temp(fah)\n",
    "print(\"converted to celcius: \",t2.calci2())\n",
    "        \n",
    "    "
   ]
  },
  {
   "cell_type": "code",
   "execution_count": null,
   "id": "c854187d",
   "metadata": {},
   "outputs": [],
   "source": []
  }
 ],
 "metadata": {
  "kernelspec": {
   "display_name": "Python 3 (ipykernel)",
   "language": "python",
   "name": "python3"
  },
  "language_info": {
   "codemirror_mode": {
    "name": "ipython",
    "version": 3
   },
   "file_extension": ".py",
   "mimetype": "text/x-python",
   "name": "python",
   "nbconvert_exporter": "python",
   "pygments_lexer": "ipython3",
   "version": "3.9.7"
  }
 },
 "nbformat": 4,
 "nbformat_minor": 5
}
