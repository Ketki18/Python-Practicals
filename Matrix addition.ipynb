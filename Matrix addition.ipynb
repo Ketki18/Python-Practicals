{
 "cells": [
  {
   "cell_type": "code",
   "execution_count": null,
   "id": "c6b20736",
   "metadata": {},
   "outputs": [],
   "source": []
  },
  {
   "cell_type": "code",
   "execution_count": 15,
   "id": "673d6e72",
   "metadata": {},
   "outputs": [
    {
     "name": "stdout",
     "output_type": "stream",
     "text": [
      "3\n",
      "[2, 4, 6, 12]\n",
      "[8, 10, 12, 8]\n",
      "[14, 16, 18, 7]\n"
     ]
    }
   ],
   "source": [
    "a=[[1,2,3,4],\n",
    "   [4,5,6,5],\n",
    "   [7,8,9,6]]\n",
    "b=[[1,2,3,8],\n",
    "   [4,5,6,3],\n",
    "   [7,8,9,1]]\n",
    "add=[[0,0,0,0],\n",
    "     [0,0,0,0],\n",
    "     [0,0,0,0]]\n",
    "lena=len(a)\n",
    "print(lena)\n",
    "for i in range(len(a)): #for row\n",
    "    for j in range(len(a[0])): #for column\n",
    "        add[i][j]=a[i][j]+b[i][j]\n",
    "for i in add:\n",
    "    print(i)"
   ]
  },
  {
   "cell_type": "markdown",
   "id": "794b1fca",
   "metadata": {},
   "source": [
    "2)Matrix multiplication"
   ]
  },
  {
   "cell_type": "code",
   "execution_count": 39,
   "id": "ddad1f70",
   "metadata": {},
   "outputs": [
    {
     "name": "stdout",
     "output_type": "stream",
     "text": [
      "4\n",
      "[1, 4, 9, 32]\n",
      "[16, 25, 36, 15]\n",
      "[49, 64, 81, 6]\n"
     ]
    }
   ],
   "source": [
    "a=[[1,2,3,4],\n",
    "   [4,5,6,5],\n",
    "   [7,8,9,6]]\n",
    "b=[[1,2,3,8],\n",
    "   [4,5,6,3],\n",
    "   [7,8,9,1]]\n",
    "add=[[0,0,0,0],\n",
    "     [0,0,0,0],\n",
    "     [0,0,0,0]]\n",
    "lena=len(a[0])\n",
    "print(lena)\n",
    "for i in range(len(a)): #for row\n",
    "    for j in range(len(a[0])): #for column\n",
    "        add[i][j]=a[i][j]*b[i][j]\n",
    "for i in add:\n",
    "    print(i)"
   ]
  },
  {
   "cell_type": "markdown",
   "id": "30756bc1",
   "metadata": {},
   "source": [
    "3) print prime numbers from 1-100"
   ]
  },
  {
   "cell_type": "code",
   "execution_count": 51,
   "id": "2307963b",
   "metadata": {},
   "outputs": [
    {
     "name": "stdout",
     "output_type": "stream",
     "text": [
      "2\n",
      "3\n",
      "5\n",
      "7\n",
      "11\n",
      "13\n",
      "17\n",
      "19\n",
      "23\n",
      "29\n",
      "31\n",
      "37\n",
      "41\n",
      "43\n",
      "47\n",
      "53\n",
      "59\n",
      "61\n",
      "67\n",
      "71\n",
      "73\n",
      "79\n",
      "83\n",
      "89\n",
      "97\n",
      "total prime nos:  25\n"
     ]
    }
   ],
   "source": [
    "c=0\n",
    "for num in range(1,101):\n",
    "    if num>1:\n",
    "        for i in range(2,num):\n",
    "            if(num%i==0):\n",
    "                break\n",
    "        else:\n",
    "            print(num)\n",
    "            c=c+1\n",
    "print(\"total prime nos: \",c)"
   ]
  },
  {
   "cell_type": "markdown",
   "id": "80c04753",
   "metadata": {},
   "source": [
    "3)Program to print fibonacci series"
   ]
  },
  {
   "cell_type": "code",
   "execution_count": 56,
   "id": "df89bb74",
   "metadata": {},
   "outputs": [
    {
     "name": "stdout",
     "output_type": "stream",
     "text": [
      "Enter the value of 'n': 5\n",
      "Fibonacci Series:  0 1 1 2 3 "
     ]
    }
   ],
   "source": [
    "n = int(input(\"Enter the value of 'n': \"))\n",
    "a = 0\n",
    "b = 1\n",
    "sum = 0\n",
    "count = 1\n",
    "print(\"Fibonacci Series: \", end = \" \")\n",
    "while(count <= n):\n",
    "  print(sum, end = \" \")\n",
    "  count += 1\n",
    "  a = b\n",
    "  b = sum\n",
    "  sum = a + b\n"
   ]
  },
  {
   "cell_type": "code",
   "execution_count": 62,
   "id": "e4ada4fc",
   "metadata": {},
   "outputs": [
    {
     "name": "stdout",
     "output_type": "stream",
     "text": [
      "Enter the value of 'n': 5\n",
      "Fibonacci Series: 0 1 1 2 3 "
     ]
    }
   ],
   "source": [
    "def Fibonacci_series(Number):\n",
    "    if(Number == 0):\n",
    "        return 0\n",
    "    elif(Number == 1):\n",
    "        return 1\n",
    "    else:\n",
    "        return(Fibonacci_series(Number - 2) + Fibonacci_series(Number - 1))\n",
    "\n",
    "n = int(input(\"Enter the value of 'n': \"))\n",
    "print(\"Fibonacci Series:\", end = ' ')\n",
    "for n in range(0, n):\n",
    "  print(Fibonacci_series(n), end = ' ')"
   ]
  },
  {
   "cell_type": "code",
   "execution_count": null,
   "id": "11b34f52",
   "metadata": {},
   "outputs": [],
   "source": []
  }
 ],
 "metadata": {
  "kernelspec": {
   "display_name": "Python 3 (ipykernel)",
   "language": "python",
   "name": "python3"
  },
  "language_info": {
   "codemirror_mode": {
    "name": "ipython",
    "version": 3
   },
   "file_extension": ".py",
   "mimetype": "text/x-python",
   "name": "python",
   "nbconvert_exporter": "python",
   "pygments_lexer": "ipython3",
   "version": "3.9.7"
  }
 },
 "nbformat": 4,
 "nbformat_minor": 5
}
