{
 "cells": [
  {
   "cell_type": "code",
   "execution_count": 14,
   "id": "3742391b",
   "metadata": {},
   "outputs": [
    {
     "name": "stdout",
     "output_type": "stream",
     "text": [
      "extra money spent in feb compare to january is= 150\n",
      "first quarter total expenses= 7150\n",
      "did i spent 2000 in any month False\n",
      "june [2200, 2350, 2600, 2130, 2190, 1980]\n",
      "updated monthly expenses in april 1930\n"
     ]
    }
   ],
   "source": [
    "expenses=[2200,2350,2600,2130,2190]\n",
    "print(\"extra money spent in feb compare to january is=\",expenses[1]-expenses[0])\n",
    "print(\"first quarter total expenses=\",expenses[0]+expenses[1]+expenses[2])\n",
    "print(\"did i spent 2000 in any month\",2000 in expenses)\n",
    "'''for i in range(len(expenses)):\n",
    "    if expenses[i]==2000:\n",
    "        print(\"yes\")\n",
    "    else:\n",
    "    print(\"no\")'''\n",
    "expenses.append(1980)\n",
    "print(\"june\",expenses)\n",
    "print(\"updated monthly expenses in april\",expenses[3]-200)"
   ]
  },
  {
   "cell_type": "code",
   "execution_count": null,
   "id": "01191bd8",
   "metadata": {},
   "outputs": [],
   "source": []
  }
 ],
 "metadata": {
  "kernelspec": {
   "display_name": "Python 3 (ipykernel)",
   "language": "python",
   "name": "python3"
  },
  "language_info": {
   "codemirror_mode": {
    "name": "ipython",
    "version": 3
   },
   "file_extension": ".py",
   "mimetype": "text/x-python",
   "name": "python",
   "nbconvert_exporter": "python",
   "pygments_lexer": "ipython3",
   "version": "3.9.7"
  }
 },
 "nbformat": 4,
 "nbformat_minor": 5
}
