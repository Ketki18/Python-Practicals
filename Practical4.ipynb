{
 "cells": [
  {
   "cell_type": "markdown",
   "id": "b22f0632",
   "metadata": {},
   "source": [
    "1. WAP to input 3 numbers and print second largest number."
   ]
  },
  {
   "cell_type": "markdown",
   "id": "f07b1c03",
   "metadata": {},
   "source": [
    "#### "
   ]
  },
  {
   "cell_type": "code",
   "execution_count": 25,
   "id": "85b202fb",
   "metadata": {},
   "outputs": [
    {
     "name": "stdout",
     "output_type": "stream",
     "text": [
      "Enter 3 numbers\n",
      "45\n",
      "76\n",
      "34\n",
      "second largest number\n",
      "\n",
      "45\n"
     ]
    }
   ],
   "source": [
    "list1=[]\n",
    "print(\"Enter 3 numbers\")\n",
    "for i in range(3):\n",
    "    list1.append(int(input()))\n",
    "max1=list1[0]\n",
    "for i in range(3):\n",
    "    if max1<list1[i]:\n",
    "        max1=list1[i]\n",
    "max2=list1[0]\n",
    "for i in range(3):\n",
    "    if max2<list1[i]:\n",
    "        if list1[i]!=max1:\n",
    "            max2=list1[i]\n",
    "print(\"second largest number\\n\")\n",
    "print(max2)"
   ]
  },
  {
   "cell_type": "markdown",
   "id": "62e18be1",
   "metadata": {},
   "source": [
    "2. WAP to print following patterns\n",
    " a.    *               b. 1\n",
    "      * *                2 2\n",
    "     * * *              3 3 3"
   ]
  },
  {
   "cell_type": "code",
   "execution_count": 96,
   "id": "95a747a8",
   "metadata": {},
   "outputs": [
    {
     "name": "stdout",
     "output_type": "stream",
     "text": [
      "Program 1\n",
      "   \r\n",
      "  * \r\n",
      " * * \r\n",
      "* * * \r\n",
      "\n",
      "\n",
      "Program 2\n",
      "   \r\n",
      "  1 \r\n",
      " 2 2 \r\n",
      "3 3 3 \r\n"
     ]
    }
   ],
   "source": [
    "# Program (a)\n",
    "print(\"Program 1\")\n",
    "s=3\n",
    "for i in range(0,4):\n",
    "    for j in range(0,s):\n",
    "        print(end=\" \")\n",
    "    s=s-1\n",
    "    for j in range(0,i):\n",
    "        print(\"* \",end=\"\")\n",
    "    print(\"\\r\")\n",
    "print(\"\\n\")        \n",
    "#Program (b)\n",
    "print(\"Program 2\")\n",
    "s=3\n",
    "for i in range(0,4):\n",
    "    for j in range(0,s):\n",
    "        print(end=\" \")\n",
    "    s=s-1\n",
    "    for j in range(0,i):\n",
    "        print(i,end=\" \")\n",
    "    print(\"\\r\")"
   ]
  },
  {
   "cell_type": "markdown",
   "id": "c5205d2f",
   "metadata": {},
   "source": [
    "# "
   ]
  },
  {
   "cell_type": "markdown",
   "id": "e639427d",
   "metadata": {},
   "source": [
    "3. WAP to take number from keyboard and prints its equivalent English word.\n",
    "E. g 21---> Twenty-One"
   ]
  },
  {
   "cell_type": "code",
   "execution_count": 119,
   "id": "b96fa6a1",
   "metadata": {},
   "outputs": [
    {
     "name": "stdout",
     "output_type": "stream",
     "text": [
      "Enter a number 92384\n",
      "Ninty Two Thousand Three Hundred Eighty Four\n"
     ]
    }
   ],
   "source": [
    "number=[\"\",\"One\",\"Two\",\"Three\",\"Four\",\"Five\",\"Six\",\"Seven\",\"Eight\",\"Nine\"]\n",
    "nty=[\"\",\"\",\"Twenty\",\"Thirty\",\"Fourty\",\"Fifty\",\"Sixty\",\"Seventy\",\"Eighty\",\"Ninty\"]\n",
    "tens=[\"Ten\",\"Eleven\",\"Twelve\",\"Thirteen\",\"Fourteen\",\"Fifteen\",\"Sixteen\",\"Seventeen\",\"Eighteen\",\"Nineteen\"]\n",
    "n=int(input(\"Enter a number \"))\n",
    "if n>99999:\n",
    "    print(\"Cant solve for more than 5 digits\")\n",
    "else:\n",
    "    d=[0,0,0,0,0]\n",
    "    i=0\n",
    "    while n>0:\n",
    "        d[i]=n%10\n",
    "        i+=1\n",
    "        n=n//10\n",
    "    num=\"\"\n",
    "    if d[4]!=0:\n",
    "        if(d[4]==1):\n",
    "            num+=tens[d[3]]+ \" Thousand \"\n",
    "        else:\n",
    "            num+=nty[d[4]]+\" \"+number[d[3]]+  \" Thousand \"\n",
    "    else:\n",
    "        if d[3]!=0:\n",
    "            num+=number[d[3]]+ \" Thousand \"\n",
    "    if d[2]!=0:\n",
    "        num+=number[d[2]]+\" Hundred \"\n",
    "    if d[1] != 0:\n",
    "        if (d[1] == 1):\n",
    "            num += tens[d[0]]\n",
    "        else:\n",
    "            num += nty[d[1]] + \" \" + number[d[0]]\n",
    "    else:\n",
    "        if d[0] != 0:\n",
    "            num += number[d[0]]\n",
    "    print(num)\n",
    "            "
   ]
  },
  {
   "cell_type": "markdown",
   "id": "ea940935",
   "metadata": {},
   "source": [
    "4. WAP to print prime numbers up to n."
   ]
  },
  {
   "cell_type": "code",
   "execution_count": 146,
   "id": "22c79c3e",
   "metadata": {},
   "outputs": [
    {
     "name": "stdout",
     "output_type": "stream",
     "text": [
      "enter starting number 1\n",
      "enter ending number 50\n",
      "Prime numbers\n",
      "2\n",
      "3\n",
      "5\n",
      "7\n",
      "11\n",
      "13\n",
      "17\n",
      "19\n",
      "23\n",
      "29\n",
      "31\n",
      "37\n",
      "41\n",
      "43\n",
      "47\n"
     ]
    }
   ],
   "source": [
    "start=int(input(\"enter starting number \"))\n",
    "end=int(input(\"enter ending number \"))\n",
    "print(\"Prime numbers\")\n",
    "for num in range(start,end+1):\n",
    "    if(num>1):\n",
    "        for i in range(2,num):\n",
    "            if(num%i)==0:\n",
    "                break\n",
    "        else:\n",
    "            print(num)"
   ]
  },
  {
   "cell_type": "markdown",
   "id": "1e60868a",
   "metadata": {},
   "source": [
    "5. Write a program to prompt the user for hours and rate per hour to compute gross pay. If\n",
    "employee works for hours 40 above, then give 1.5times the hourly rate for hours worked.\n",
    "e.g Enter Hours: 45\n",
    "Enter Rate: 10\n",
    "Pay:475.0"
   ]
  },
  {
   "cell_type": "code",
   "execution_count": 144,
   "id": "3ae042b1",
   "metadata": {},
   "outputs": [
    {
     "name": "stdout",
     "output_type": "stream",
     "text": [
      "Enter Hours: 45\n",
      "Enter rate: 10\n",
      "Pay:  475.0\n"
     ]
    }
   ],
   "source": [
    "def calci(hour,rate):\n",
    "    if hour>40:\n",
    "        pay=40*rate+(hour-40)*1.5*rate\n",
    "    else:\n",
    "        pay=hour*rate\n",
    "    return pay\n",
    "hour=float(input(\"Enter Hours: \"))\n",
    "rate=float(input(\"Enter rate: \"))\n",
    "pay=calci(hour,rate)\n",
    "print(\"Pay: \",pay)\n",
    "\n"
   ]
  },
  {
   "cell_type": "code",
   "execution_count": null,
   "id": "e560a1cc",
   "metadata": {},
   "outputs": [],
   "source": [
    "\n",
    "  "
   ]
  },
  {
   "cell_type": "code",
   "execution_count": null,
   "id": "b726edf8",
   "metadata": {},
   "outputs": [],
   "source": []
  }
 ],
 "metadata": {
  "kernelspec": {
   "display_name": "Python 3 (ipykernel)",
   "language": "python",
   "name": "python3"
  },
  "language_info": {
   "codemirror_mode": {
    "name": "ipython",
    "version": 3
   },
   "file_extension": ".py",
   "mimetype": "text/x-python",
   "name": "python",
   "nbconvert_exporter": "python",
   "pygments_lexer": "ipython3",
   "version": "3.9.7"
  }
 },
 "nbformat": 4,
 "nbformat_minor": 5
}
