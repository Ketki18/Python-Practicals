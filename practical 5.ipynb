{
 "cells": [
  {
   "cell_type": "markdown",
   "id": "4d17e645",
   "metadata": {},
   "source": [
    "1. Program to check if the Given List is in Ascending Order or Not."
   ]
  },
  {
   "cell_type": "code",
   "execution_count": 22,
   "id": "e5df6460",
   "metadata": {},
   "outputs": [
    {
     "name": "stdout",
     "output_type": "stream",
     "text": [
      "Given list is in ascending order: [1, 2, 3, 4, 5]\n"
     ]
    }
   ],
   "source": [
    "list1=[1,2,3,4,5]\n",
    "f=0\n",
    "i=1\n",
    "while i<len(list1):\n",
    "    if(list1[i]<list1[i-1]):\n",
    "        f=1\n",
    "    i=i+1\n",
    "if(f==1):\n",
    "    print(\"Given list is not in ascending order:\")\n",
    "else:\n",
    "    print(\"Given list is in ascending order:\",list1)"
   ]
  },
  {
   "cell_type": "markdown",
   "id": "00c2b2e6",
   "metadata": {},
   "source": [
    "2. Program to Find Even Numbers from a List."
   ]
  },
  {
   "cell_type": "code",
   "execution_count": 66,
   "id": "8d76b61c",
   "metadata": {},
   "outputs": [
    {
     "name": "stdout",
     "output_type": "stream",
     "text": [
      "even numbers\n",
      "2 4 6 8 "
     ]
    }
   ],
   "source": [
    "list1=[2,4,5,6,7,9,8]\n",
    "print(\"even numbers\")\n",
    "for i in list1:\n",
    "    if i%2==0:\n",
    "        print(i,end=\" \")"
   ]
  },
  {
   "cell_type": "markdown",
   "id": "410469f4",
   "metadata": {},
   "source": [
    "3. Program to Merge Two Lists."
   ]
  },
  {
   "cell_type": "code",
   "execution_count": 25,
   "id": "3cca7925",
   "metadata": {},
   "outputs": [
    {
     "name": "stdout",
     "output_type": "stream",
     "text": [
      "[1, 2, 3, 4, 5, 6, 7, 8, 9]\n"
     ]
    }
   ],
   "source": [
    "list1=[1,2,3,4,5]\n",
    "list2=[6,7,8,9]\n",
    "list1+=list2\n",
    "print(\"Merged list:\",list1)"
   ]
  },
  {
   "cell_type": "markdown",
   "id": "70ef1c3e",
   "metadata": {},
   "source": [
    "4. Interchange First and Last Element of a List."
   ]
  },
  {
   "cell_type": "code",
   "execution_count": 36,
   "id": "582027df",
   "metadata": {},
   "outputs": [
    {
     "name": "stdout",
     "output_type": "stream",
     "text": [
      "Initial list: [1, 2, 3, 4, 5]\n",
      "Interchanged first element with last element: [5, 2, 3, 4, 1]\n"
     ]
    }
   ],
   "source": [
    "list1=[1,2,3,4,5]\n",
    "print(\"Initial list:\",list1)\n",
    "n=len(list1)\n",
    "l=len(list1)\n",
    "temp=list1[0]\n",
    "list1[0]=list1[l-1]\n",
    "list1[l-1]=temp\n",
    "print(\"Interchanged first element with last element:\",list1)"
   ]
  },
  {
   "cell_type": "markdown",
   "id": "a7a8ac41",
   "metadata": {},
   "source": [
    "5. Program to Subtract a List from Another List."
   ]
  },
  {
   "cell_type": "code",
   "execution_count": 54,
   "id": "8385e22a",
   "metadata": {
    "scrolled": true
   },
   "outputs": [
    {
     "name": "stdout",
     "output_type": "stream",
     "text": [
      "List 1:=\n",
      "[5, 6, 32, 4]\n",
      "List 2:=\n",
      "[5, 29, 28, 9]\n",
      "Subtracted list: [0, -23, 4, -5]\n"
     ]
    }
   ],
   "source": [
    "list1=[5,6,32,4]\n",
    "list2=[5,29,28,9]\n",
    "print(\"List 1:=\",list1,\"List 2:=\",list2,sep=\"\\n\")\n",
    "list3=[]\n",
    "zip_object=zip(list1,list2)\n",
    "for list1_i,list2_i in zip_object:\n",
    "    list3.append(list1_i-list2_i)\n",
    "print(\"Subtracted list:\",list3)"
   ]
  },
  {
   "cell_type": "markdown",
   "id": "7eef09ff",
   "metadata": {},
   "source": [
    "6. Program to Get Data Items from a List Appearing Odd Number of Times."
   ]
  },
  {
   "cell_type": "code",
   "execution_count": 100,
   "id": "610c5e56",
   "metadata": {},
   "outputs": [
    {
     "name": "stdout",
     "output_type": "stream",
     "text": [
      "Odd number of times the data items from a list are:  6\n"
     ]
    }
   ],
   "source": [
    "list1=[1,3,2,5,6,7,4,2,3,9]\n",
    "n=len(list1)\n",
    "c=0\n",
    "for i in list1:\n",
    "    if(i%2!=0):\n",
    "        c+=1\n",
    "print(\"Odd number of times the data items from a list are: \",c)\n",
    "        "
   ]
  },
  {
   "cell_type": "code",
   "execution_count": null,
   "id": "becf2db0",
   "metadata": {},
   "outputs": [],
   "source": [
    "list1=[1,2,3,4]\n",
    "len1=len(list1)\n",
    "i=0\n",
    "while i<len(list1):\n",
    "    if(list1[i]%2)==0:\n",
    "        print('even')\n",
    "        i=i+1\n",
    "    else:\n",
    "        print('odd')"
   ]
  },
  {
   "cell_type": "code",
   "execution_count": 24,
   "id": "8066d287",
   "metadata": {},
   "outputs": [
    {
     "name": "stdout",
     "output_type": "stream",
     "text": [
      "no\n"
     ]
    }
   ],
   "source": [
    "list1=[1,2,3,4]\n",
    "i=1\n",
    "f=0\n",
    "while i<len(list1):\n",
    "    if(list1[i]<list1[i-1]):\n",
    "        f=1\n",
    "    i=i+1\n",
    "if(f==1):\n",
    "     print('yess')\n",
    "else:\n",
    "    print('no')"
   ]
  },
  {
   "cell_type": "code",
   "execution_count": null,
   "id": "4277b985",
   "metadata": {},
   "outputs": [],
   "source": [
    "list1=[1,2,3,4,5]\n",
    "f=0\n",
    "i=1\n",
    "while i<len(list1):\n",
    "    if(list1[i]<list1[i-1]):\n",
    "        f=1\n",
    "    i=i+1\n",
    "if(f==1):\n",
    "    print(\"Given list is not in ascending order:\")\n",
    "else:\n",
    "    print(\"Given list is in ascending order:\",list1)"
   ]
  },
  {
   "cell_type": "code",
   "execution_count": null,
   "id": "f1bd3bd5",
   "metadata": {},
   "outputs": [],
   "source": [
    "l1=[1,2,3,4]\n",
    "print('even nos')\n",
    "if i in l1:\n",
    "    if i%2==0:\n",
    "        print('even')"
   ]
  },
  {
   "cell_type": "code",
   "execution_count": null,
   "id": "1229a501",
   "metadata": {},
   "outputs": [],
   "source": []
  }
 ],
 "metadata": {
  "kernelspec": {
   "display_name": "Python 3 (ipykernel)",
   "language": "python",
   "name": "python3"
  },
  "language_info": {
   "codemirror_mode": {
    "name": "ipython",
    "version": 3
   },
   "file_extension": ".py",
   "mimetype": "text/x-python",
   "name": "python",
   "nbconvert_exporter": "python",
   "pygments_lexer": "ipython3",
   "version": "3.9.7"
  }
 },
 "nbformat": 4,
 "nbformat_minor": 5
}
