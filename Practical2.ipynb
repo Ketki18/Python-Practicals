{
 "cells": [
  {
   "cell_type": "markdown",
   "id": "8f148850",
   "metadata": {},
   "source": [
    "1) Data Types"
   ]
  },
  {
   "cell_type": "markdown",
   "id": "80bac80e",
   "metadata": {},
   "source": [
    "    1. Strings"
   ]
  },
  {
   "cell_type": "code",
   "execution_count": 9,
   "id": "099e38b7",
   "metadata": {},
   "outputs": [
    {
     "name": "stdout",
     "output_type": "stream",
     "text": [
      "SGGS\n",
      "Welcome to SGGS\n",
      "Shri Guru Gobind Singhji Institute of Engineering and Technology\n",
      "Nanded,Maharashtra\n"
     ]
    }
   ],
   "source": [
    "#String with single quote\n",
    "String1='SGGS'\n",
    "print(String1)\n",
    "\n",
    "#String with double quote\n",
    "String2=\"Welcome to SGGS\"\n",
    "print(String2)\n",
    "\n",
    "#String with triple quote\n",
    "String3=\"\"\"Shri Guru Gobind Singhji Institute of Engineering and Technology\n",
    "Nanded,Maharashtra\"\"\"\n",
    "print(String3)\n"
   ]
  },
  {
   "cell_type": "markdown",
   "id": "ac4c791d",
   "metadata": {},
   "source": [
    "    2. List"
   ]
  },
  {
   "cell_type": "code",
   "execution_count": 29,
   "id": "c2c3ac1b",
   "metadata": {},
   "outputs": [
    {
     "name": "stdout",
     "output_type": "stream",
     "text": [
      "[1, 2, 3, 4, 7, 5, 9]\n",
      "Sorted list  [1, 2, 3, 4, 5, 7, 9]\n",
      "Append  [1, 2, 3, 4, 5, 7, 9, 8]\n",
      "Reverse list  [8, 9, 7, 5, 4, 3, 2, 1]\n",
      "After popping [8, 9, 7, 5, 4, 2, 1] \n",
      "\n",
      "['Hello', 5, 6.9, 'Hello world', True]\n",
      "[6.9, 'Hello world']\n",
      "['Hello', 5, 6.9, 'Hello world', True]\n",
      "[True, 'Hello world', 6.9]\n"
     ]
    }
   ],
   "source": [
    "#List with integers\n",
    "l1=[1,2,3,4,7,5,9]\n",
    "print(l1)\n",
    "l1.sort()\n",
    "print(\"Sorted list \",l1)\n",
    "l1.append(8)\n",
    "print(\"Append \",l1)\n",
    "l1.reverse()\n",
    "print(\"Reverse list \",l1)\n",
    "l1.pop(5)\n",
    "print(\"After popping\",l1,\"\\n\")\n",
    "\n",
    "#List with mixed characters\n",
    "l2=['Hello',5,6.9,\"Hello world\",True]\n",
    "print(l2)\n",
    "\n",
    "#Accessing the elements of list\n",
    "print(l2[2:4])\n",
    "print(l2[:])\n",
    "print(l2[-1:-4:-1])"
   ]
  },
  {
   "cell_type": "markdown",
   "id": "d3da1141",
   "metadata": {},
   "source": [
    "3. Tuples"
   ]
  },
  {
   "cell_type": "code",
   "execution_count": 45,
   "id": "ac33cc3c",
   "metadata": {},
   "outputs": [
    {
     "name": "stdout",
     "output_type": "stream",
     "text": [
      "()\n",
      "(1,)\n",
      "(1, 2, 3, 3)\n",
      "2\n",
      "('list', 'tuple')\n",
      "1\n",
      "(1, 2, 3, 3, 'list', 'tuple')\n"
     ]
    }
   ],
   "source": [
    "#Empty tuple\n",
    "t1=()\n",
    "print(t1)\n",
    "\n",
    "#Tuple with empty element needs a comma\n",
    "t2=(1,)\n",
    "print(t2)\n",
    "\n",
    "#Tuple with more than 1 element\n",
    "t3=(1,2,3,3)\n",
    "print(t3)\n",
    "\n",
    "# 'count()' will return no. of times the element occurs in a Tuple\n",
    "c=t3.count(3)\n",
    "print(c)\n",
    "\n",
    "#Other form of creating a tuple\n",
    "t4='list','tuple'\n",
    "print(t4)\n",
    "\n",
    "# 'index()' it will return the index number of the first occurrence of element in tuple\n",
    "index=t4.index('tuple')\n",
    "print(index)\n",
    "\n",
    "#Concatenating two tuples\n",
    "print(t3+t4)"
   ]
  },
  {
   "cell_type": "markdown",
   "id": "ea48d6a9",
   "metadata": {},
   "source": [
    "4. Sets"
   ]
  },
  {
   "cell_type": "code",
   "execution_count": 71,
   "id": "3a2ad565",
   "metadata": {},
   "outputs": [
    {
     "name": "stdout",
     "output_type": "stream",
     "text": [
      "{8, 1, 3, 6}\n",
      "4\n",
      "{8, 1, 3}\n",
      "{1, 3}\n",
      "{1, 3, 6, 10, 12}\n"
     ]
    }
   ],
   "source": [
    "# Sets are unordered,unindexed,mutable\n",
    "s={1,8,6,3}\n",
    "print(s)\n",
    "\n",
    "# len()-It return total length of set\n",
    "print(len(s))\n",
    "\n",
    "# remove()- Updates the set and removes specified element from set\n",
    "s.remove(6)\n",
    "print(s)\n",
    "\n",
    "# pop()- Removes an arbitrary element from the set and returns the element removes\n",
    "s.pop()\n",
    "print(s)\n",
    "\n",
    "# union()- Returns a new set with all items from both sets.\n",
    "print(s.union({12,10,6}))\n",
    "\n",
    "\n",
    "\n"
   ]
  },
  {
   "cell_type": "markdown",
   "id": "1c3e3a49",
   "metadata": {},
   "source": [
    "5. Dictionary"
   ]
  },
  {
   "cell_type": "code",
   "execution_count": 94,
   "id": "1ed4e8c1",
   "metadata": {},
   "outputs": [
    {
     "name": "stdout",
     "output_type": "stream",
     "text": [
      "Ram \n",
      " marks-  20\n",
      "dict_items([('name', 'Ram'), ('from', 'India'), ('age', 20), ('marks', [90, 95, 88, 93])])\n",
      "dict_keys(['name', 'from', 'age', 'marks'])\n",
      "{'name': 'Ram', 'from': 'India', 'age': 20, 'marks': [90, 95, 88, 93], 'College': 'SGGS'}\n",
      "('College', 'SGGS')\n",
      "After popping-  {'name': 'Ram', 'from': 'India', 'age': 20, 'marks': [90, 95, 88, 93]}\n"
     ]
    }
   ],
   "source": [
    "d={\"name\":\"Ram\",\n",
    "  \"from\":\"India\",\n",
    "   \"age\":20,\n",
    "  \"marks\":[90,95,88,93]}\n",
    "\n",
    "# get()- return the value of the specified keys and value is returned.\n",
    "print(d['name'],\"\\n\",\"marks- \",d.get('age'))\n",
    "\n",
    "# items()- returns a list of (key,value) tuple.\n",
    "print(d.items())\n",
    "\n",
    "#keys()- returns a list containing dictionary keys\n",
    "print(d.keys())\n",
    "\n",
    "# update()- updates the dictionary with supplied key-value pairs\n",
    "d.update({\"College\":\"SGGS\"})\n",
    "print(d)\n",
    "\n",
    "# popitem()- Removes and returns an arbitrary item(key,value). raises \"KeyError\" if the dictionary is empty.\n",
    "print(d.popitem())\n",
    "\n",
    "print(\"After popping- \",d)"
   ]
  },
  {
   "cell_type": "markdown",
   "id": "5a6f9316",
   "metadata": {},
   "source": [
    "6. Arrays"
   ]
  },
  {
   "cell_type": "code",
   "execution_count": 134,
   "id": "0245eeba",
   "metadata": {},
   "outputs": [
    {
     "name": "stdout",
     "output_type": "stream",
     "text": [
      "Array before insertion:-\n",
      "4.8 5.9 6.0 5.6 \n",
      "\n",
      "Array after insertion:- \n",
      "4.8 2.5 5.9 6.0 \n",
      "\n",
      "After appending:- \n",
      "4.8 2.5 5.9 6.0 5.6 9.7 \n",
      "\n",
      "the index of 2.5 is-  1\n"
     ]
    }
   ],
   "source": [
    "import array as arr\n",
    "# Creating array of floating values\n",
    "a=arr.array('d',[4.8,5.9,6,5.6])\n",
    "print(\"Array before insertion:-\", end=\"\\n\")\n",
    "for i in range(0,4):\n",
    "    print(a[i],end=\" \")\n",
    "print(\"\\n\")\n",
    "\n",
    "# insert()- used to insert value in array\n",
    "print(\"Array after insertion:- \" ,end=\"\\n\")\n",
    "a.insert(1,2.5)\n",
    "for i in range(0,4):\n",
    "    print(a[i],end=\" \")\n",
    "print(\"\\n\")  \n",
    "\n",
    "# append()- used to add element in an array\n",
    "a.append(9.7)\n",
    "print(\"After appending:- \",end=\"\\n\")\n",
    "for i in a:\n",
    "    print(i,end=\" \")\n",
    "print(\"\\n\")\n",
    "\n",
    "#index()- used to print index of first occurrence of given element\n",
    "print(\"the index of 2.5 is- \",a.index(2.5))\n",
    "\n",
    "    \n",
    "\n",
    "    "
   ]
  },
  {
   "cell_type": "markdown",
   "id": "8e8947a8",
   "metadata": {},
   "source": [
    "2) Variables"
   ]
  },
  {
   "cell_type": "markdown",
   "id": "6befeeb7",
   "metadata": {},
   "source": [
    "    1. Variables,expression condition and function"
   ]
  },
  {
   "cell_type": "code",
   "execution_count": 155,
   "id": "19d8c31d",
   "metadata": {},
   "outputs": [
    {
     "name": "stdout",
     "output_type": "stream",
     "text": [
      "5 8 \n",
      "sum = 13\n",
      "odd number\n",
      "multiplication of a number  40\n"
     ]
    }
   ],
   "source": [
    "#Variables\n",
    "var1=5\n",
    "var2=8\n",
    "print(var1,var2,end=\" \\n\")\n",
    "\n",
    "#Expression\n",
    "sum=var1+var2\n",
    "print(\"sum =\",sum,end=\"\\n\")\n",
    "\n",
    "#Condition\n",
    "if sum%2!=0:\n",
    "    print(\"odd number\")\n",
    "else:\n",
    "    print(\"even number\")\n",
    "    \n",
    "    \n",
    "#Functions\n",
    "def calci(a,b):\n",
    "    mul=a*b\n",
    "    print(\"multiplication of a number \",mul)\n",
    "calci(var1,var2)"
   ]
  },
  {
   "cell_type": "markdown",
   "id": "d2db1b60",
   "metadata": {},
   "source": [
    "2. Maximum possible value of an integer in python"
   ]
  },
  {
   "cell_type": "code",
   "execution_count": 165,
   "id": "15b3cef3",
   "metadata": {},
   "outputs": [
    {
     "name": "stdout",
     "output_type": "stream",
     "text": [
      "9223372036854775807\n",
      "<class 'int'>\n"
     ]
    }
   ],
   "source": [
    "import sys\n",
    "print(sys.maxsize)\n",
    "print(type(sys.maxsize))"
   ]
  },
  {
   "cell_type": "markdown",
   "id": "c55317e2",
   "metadata": {},
   "source": [
    "3. Global and local variables in python"
   ]
  },
  {
   "cell_type": "code",
   "execution_count": 173,
   "id": "7610b8ca",
   "metadata": {},
   "outputs": [
    {
     "name": "stdout",
     "output_type": "stream",
     "text": [
      "Im a Global variable\n",
      "Im a Local variable\n",
      "Im a Global variable\n"
     ]
    }
   ],
   "source": [
    "def fun():\n",
    "    #This is local variable which can be accessible by only this function\n",
    "    l=\"Im a Local variable\"\n",
    "    print(l)\n",
    "    print(g)\n",
    "#This is global variable which can be accessible by anywhere in the program\n",
    "g=\"Im a Global variable\"\n",
    "print(g)\n",
    "fun()\n",
    "\n",
    "\n",
    "    "
   ]
  },
  {
   "cell_type": "markdown",
   "id": "ce812425",
   "metadata": {},
   "source": [
    "4. Packing and unpacking arguments in python"
   ]
  },
  {
   "cell_type": "code",
   "execution_count": 192,
   "id": "6fd4d12d",
   "metadata": {},
   "outputs": [
    {
     "name": "stdout",
     "output_type": "stream",
     "text": [
      "1 2 3 4\n",
      "15\n",
      "30\n"
     ]
    }
   ],
   "source": [
    "def fun(a,b,c,d):\n",
    "    print(a,b,c,d)\n",
    "    \n",
    "list=[1,2,3,4]\n",
    "#Unpacking list into 4 arguments\n",
    "fun(*list)\n",
    "\n",
    "#Packing unknown number of arguments\n",
    "def fun(*args):\n",
    "    sum=0\n",
    "    for i in range(0,len(args)):\n",
    "        sum=sum+args[i]\n",
    "    return sum\n",
    "print(fun(1,2,3,4,5))\n",
    "print(fun(10,20))\n",
    "\n"
   ]
  },
  {
   "cell_type": "markdown",
   "id": "436f610d",
   "metadata": {},
   "source": [
    "5. Type conversion in Python"
   ]
  },
  {
   "cell_type": "code",
   "execution_count": 201,
   "id": "e364434a",
   "metadata": {},
   "outputs": [
    {
     "name": "stdout",
     "output_type": "stream",
     "text": [
      "93.6\n",
      "<class 'float'> \n",
      "\n",
      "768 <class 'int'>\n"
     ]
    }
   ],
   "source": [
    "# Implicit Type Conversion\n",
    "num1=90\n",
    "num2=3.6\n",
    "sum=num1+num2\n",
    "print(sum)\n",
    "print(type(sum),\"\\n\")\n",
    "\n",
    "#Explicit Type Conversion\n",
    "n1=768.89\n",
    "n2=int(n1)\n",
    "print(n2,type(n2))\n"
   ]
  },
  {
   "cell_type": "markdown",
   "id": "5463d469",
   "metadata": {},
   "source": [
    "6. Byte objects vs string in python"
   ]
  },
  {
   "cell_type": "code",
   "execution_count": 216,
   "id": "ab7fafea",
   "metadata": {},
   "outputs": [
    {
     "name": "stdout",
     "output_type": "stream",
     "text": [
      "Encoding successful\n",
      "Decoding succeed\n"
     ]
    }
   ],
   "source": [
    "#String to Byte object\n",
    "a=\"Python Programming\"\n",
    "c=b\"Python Programming\"\n",
    "d=a.encode('ASCII')\n",
    "if(d==c):\n",
    "    print(\"Encoding successful\")\n",
    "else:\n",
    "    print(\"unsuccesful\")\n",
    "    \n",
    "#Byte object to string\n",
    "a=\"PYTHON PROGRAMMING\"\n",
    "c=b\"PYTHON PROGRAMMING\"\n",
    "d=c.decode(\"ASCII\")\n",
    "if(d==a):\n",
    "    print(\"Decoding succeed\")\n",
    "else:\n",
    "    print(\"Not Succeed\")\n",
    "    "
   ]
  },
  {
   "cell_type": "markdown",
   "id": "4f022869",
   "metadata": {},
   "source": [
    "7. Print single and multiple variable"
   ]
  },
  {
   "cell_type": "code",
   "execution_count": 1,
   "id": "b84fbd4c",
   "metadata": {},
   "outputs": [
    {
     "name": "stdout",
     "output_type": "stream",
     "text": [
      "Single variable-  Python\n",
      "Multile variable-  Python Programming\n"
     ]
    }
   ],
   "source": [
    "a=\"Python\"\n",
    "b=\"Programming\"\n",
    "print(\"Single variable- \",a)\n",
    "print(\"Multiple variable- \",a,b)"
   ]
  },
  {
   "cell_type": "markdown",
   "id": "cc2db445",
   "metadata": {},
   "source": [
    "8. Swap variable"
   ]
  },
  {
   "cell_type": "code",
   "execution_count": 6,
   "id": "4377df2e",
   "metadata": {},
   "outputs": [
    {
     "name": "stdout",
     "output_type": "stream",
     "text": [
      "value of x and y before swapping:- x= 9 y= 4\n",
      "value of x and y after swapping  x= 4 y= 9\n"
     ]
    }
   ],
   "source": [
    "x=9\n",
    "y=4\n",
    "print(\"value of x and y before swapping:- x=\",x,\"y=\",y)\n",
    "x,y=y,x\n",
    "print(\"value of x and y after swapping  x=\",x,\"y=\",y)"
   ]
  },
  {
   "cell_type": "markdown",
   "id": "d2983c56",
   "metadata": {},
   "source": [
    "9. Private variables"
   ]
  },
  {
   "cell_type": "code",
   "execution_count": 16,
   "id": "dbe61166",
   "metadata": {},
   "outputs": [
    {
     "name": "stdout",
     "output_type": "stream",
     "text": [
      "Public variable\n",
      "Private variable\n"
     ]
    }
   ],
   "source": [
    "class first():\n",
    "    def __init__(self,nv,pv):\n",
    "        self.nv=nv\n",
    "        self.__pv=pv\n",
    "s1=first('Public variable','Private variable')\n",
    "print(s1.nv)\n",
    "print(s1._first__pv)\n"
   ]
  },
  {
   "cell_type": "markdown",
   "id": "0a9921ef",
   "metadata": {},
   "source": [
    "10. __name__ (A special variable) in Python"
   ]
  },
  {
   "cell_type": "code",
   "execution_count": 18,
   "id": "c7c52b0e",
   "metadata": {},
   "outputs": [
    {
     "name": "stdout",
     "output_type": "stream",
     "text": [
      "hello\n",
      "__name__value:  __main__\n",
      "Python main function\n"
     ]
    }
   ],
   "source": [
    "print(\"hello\")\n",
    "print(\"__name__value: \",__name__)\n",
    "def main():\n",
    "    print(\"Python main function\")\n",
    "if __name__=='__main__':\n",
    "    main()"
   ]
  },
  {
   "cell_type": "code",
   "execution_count": 2,
   "id": "0c90523c",
   "metadata": {},
   "outputs": [
    {
     "name": "stdout",
     "output_type": "stream",
     "text": [
      "even nos\n",
      "even\n",
      "even\n"
     ]
    }
   ],
   "source": [
    "l1=[1,2,3,4]\n",
    "print('even nos')\n",
    "for i in l1:\n",
    "    if i%2==0:\n",
    "        print('even')"
   ]
  },
  {
   "cell_type": "code",
   "execution_count": 5,
   "id": "1b7a8f06",
   "metadata": {},
   "outputs": [
    {
     "ename": "TypeError",
     "evalue": "unsupported operand type(s) for -: 'list' and 'list'",
     "output_type": "error",
     "traceback": [
      "\u001b[1;31m---------------------------------------------------------------------------\u001b[0m",
      "\u001b[1;31mTypeError\u001b[0m                                 Traceback (most recent call last)",
      "\u001b[1;32m~\\AppData\\Local\\Temp/ipykernel_13972/2699117170.py\u001b[0m in \u001b[0;36m<module>\u001b[1;34m\u001b[0m\n\u001b[0;32m      2\u001b[0m \u001b[0ml2\u001b[0m\u001b[1;33m=\u001b[0m\u001b[1;33m[\u001b[0m\u001b[1;36m3\u001b[0m\u001b[1;33m,\u001b[0m\u001b[1;36m4\u001b[0m\u001b[1;33m,\u001b[0m\u001b[1;36m6\u001b[0m\u001b[1;33m,\u001b[0m\u001b[1;36m2\u001b[0m\u001b[1;33m]\u001b[0m\u001b[1;33m\u001b[0m\u001b[1;33m\u001b[0m\u001b[0m\n\u001b[0;32m      3\u001b[0m \u001b[0ml3\u001b[0m\u001b[1;33m=\u001b[0m\u001b[1;33m[\u001b[0m\u001b[1;33m]\u001b[0m\u001b[1;33m\u001b[0m\u001b[1;33m\u001b[0m\u001b[0m\n\u001b[1;32m----> 4\u001b[1;33m \u001b[0ml3\u001b[0m\u001b[1;33m=\u001b[0m\u001b[0ml1\u001b[0m\u001b[1;33m-\u001b[0m\u001b[0ml2\u001b[0m\u001b[1;33m\u001b[0m\u001b[1;33m\u001b[0m\u001b[0m\n\u001b[0m\u001b[0;32m      5\u001b[0m \u001b[0mprint\u001b[0m\u001b[1;33m(\u001b[0m\u001b[0ml3\u001b[0m\u001b[1;33m)\u001b[0m\u001b[1;33m\u001b[0m\u001b[1;33m\u001b[0m\u001b[0m\n",
      "\u001b[1;31mTypeError\u001b[0m: unsupported operand type(s) for -: 'list' and 'list'"
     ]
    }
   ],
   "source": [
    "l1=[1,2,3,4]\n",
    "l2=[3,4,6,2]\n",
    "l3=[]\n",
    "l3=l1-l2\n",
    "print(l3)"
   ]
  },
  {
   "cell_type": "code",
   "execution_count": null,
   "id": "7b510990",
   "metadata": {},
   "outputs": [],
   "source": []
  }
 ],
 "metadata": {
  "kernelspec": {
   "display_name": "Python 3 (ipykernel)",
   "language": "python",
   "name": "python3"
  },
  "language_info": {
   "codemirror_mode": {
    "name": "ipython",
    "version": 3
   },
   "file_extension": ".py",
   "mimetype": "text/x-python",
   "name": "python",
   "nbconvert_exporter": "python",
   "pygments_lexer": "ipython3",
   "version": "3.9.7"
  }
 },
 "nbformat": 4,
 "nbformat_minor": 5
}
