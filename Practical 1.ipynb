{
 "cells": [
  {
   "cell_type": "markdown",
   "id": "e1b663fe",
   "metadata": {},
   "source": [
    "1)Python program to add two numbers"
   ]
  },
  {
   "cell_type": "code",
   "execution_count": 22,
   "id": "4e36f5e2",
   "metadata": {
    "scrolled": true
   },
   "outputs": [
    {
     "name": "stdout",
     "output_type": "stream",
     "text": [
      "enter number 1\n",
      "46\n",
      "enter number 2\n",
      "78\n",
      "124\n"
     ]
    }
   ],
   "source": [
    "num1=int(input(\"enter number 1\\n\"))\n",
    "num2=int(input(\"enter number 2\\n\"))\n",
    "sum=num1+num2\n",
    "print(sum)"
   ]
  },
  {
   "cell_type": "markdown",
   "id": "e40783ce",
   "metadata": {},
   "source": [
    "2)Maximum of two numbers in python"
   ]
  },
  {
   "cell_type": "code",
   "execution_count": 23,
   "id": "96911019",
   "metadata": {
    "scrolled": true
   },
   "outputs": [
    {
     "name": "stdout",
     "output_type": "stream",
     "text": [
      "enter number 1\n",
      "7\n",
      "enter number 2\n",
      "9\n",
      "9 is maximum\n"
     ]
    }
   ],
   "source": [
    "num1=int(input(\"enter number 1\\n\"))\n",
    "num2=int(input(\"enter number 2\\n\"))\n",
    "if (num1>num2):\n",
    "    print(num1,\"is maximum\")\n",
    "else:\n",
    "    print(num2,\"is maximum\")"
   ]
  },
  {
   "cell_type": "markdown",
   "id": "cdd83e31",
   "metadata": {},
   "source": [
    "3) Python program for factorial of a number"
   ]
  },
  {
   "cell_type": "code",
   "execution_count": 29,
   "id": "6cce641f",
   "metadata": {
    "scrolled": false
   },
   "outputs": [
    {
     "name": "stdout",
     "output_type": "stream",
     "text": [
      "enter number\n",
      "5\n",
      "factorial of a given number is 120\n"
     ]
    }
   ],
   "source": [
    "num1=int(input(\"enter number\\n\"))\n",
    "fact=1\n",
    "for i in range(1,num1+1):\n",
    "    fact=fact*i\n",
    "print(\"factorial of a given number is\",fact)"
   ]
  },
  {
   "cell_type": "markdown",
   "id": "a59b6c74",
   "metadata": {},
   "source": [
    "4) Python program for Simple Interest"
   ]
  },
  {
   "cell_type": "code",
   "execution_count": 33,
   "id": "a4381414",
   "metadata": {},
   "outputs": [
    {
     "name": "stdout",
     "output_type": "stream",
     "text": [
      "enter principal2000\n",
      "enter interest rate5\n",
      "enter time3\n",
      "Simple Interest 300.0\n"
     ]
    }
   ],
   "source": [
    "p=float(input(\"enter principal\"))\n",
    "r=float(input(\"enter interest rate\"))\n",
    "t=float(input(\"enter time\"))\n",
    "si=p*r*t/100\n",
    "print(\"Simple Interest\",si)"
   ]
  },
  {
   "cell_type": "markdown",
   "id": "8c65d04a",
   "metadata": {},
   "source": [
    "5) Python program for compound interest"
   ]
  },
  {
   "cell_type": "code",
   "execution_count": 10,
   "id": "8c962c4e",
   "metadata": {},
   "outputs": [
    {
     "name": "stdout",
     "output_type": "stream",
     "text": [
      "enter principal amount\n",
      "2000\n",
      "enter rate\n",
      ".08\n",
      "enter time\n",
      "5\n",
      "amount of times the interest is compounded per time period\n",
      "12\n",
      "compound interest= 979.6914166032102\n"
     ]
    }
   ],
   "source": [
    "import math\n",
    "p=float(input(\"enter principal amount\\n\"))\n",
    "r=float(input(\"enter rate\\n\"))\n",
    "t=float(input(\"enter time\\n\"))\n",
    "n=float(input(\"amount of times the interest is compounded per time period\\n\"))\n",
    "a=p*math.pow(1+(r/n),n*t)\n",
    "cin=a-p\n",
    "print(\"compound interest=\",cin)\n"
   ]
  },
  {
   "cell_type": "markdown",
   "id": "2969c339",
   "metadata": {},
   "source": [
    "6) Python program to check Armstrong Number"
   ]
  },
  {
   "cell_type": "code",
   "execution_count": 2,
   "id": "12cd9c1e",
   "metadata": {},
   "outputs": [
    {
     "name": "stdout",
     "output_type": "stream",
     "text": [
      "enter number\n",
      "370\n",
      "number is armstrong\n"
     ]
    }
   ],
   "source": [
    "n=int(input(\"enter number\\n\"))\n",
    "sum=0\n",
    "t=n\n",
    "while t>0:\n",
    "    d=t%10\n",
    "    sum=sum+d**3\n",
    "    t=t//10\n",
    "if n==sum:\n",
    "    print(\"number is armstrong\")\n",
    "else:\n",
    "    print(\"not\")"
   ]
  },
  {
   "cell_type": "markdown",
   "id": "30ff5c2b",
   "metadata": {},
   "source": [
    "7) Python program to find area of a circle"
   ]
  },
  {
   "cell_type": "code",
   "execution_count": 43,
   "id": "5127909e",
   "metadata": {},
   "outputs": [
    {
     "name": "stdout",
     "output_type": "stream",
     "text": [
      "enter radius\n",
      "5\n",
      "area of a circle= 78.5\n"
     ]
    }
   ],
   "source": [
    "r=float(input(\"enter radius\\n\"))\n",
    "a=3.14*r*r\n",
    "print(\"area of a circle=\",a)"
   ]
  },
  {
   "cell_type": "markdown",
   "id": "246866b9",
   "metadata": {},
   "source": [
    "8) Python program to print all prime numbers in an interval."
   ]
  },
  {
   "cell_type": "code",
   "execution_count": 53,
   "id": "f8d21169",
   "metadata": {},
   "outputs": [
    {
     "name": "stdout",
     "output_type": "stream",
     "text": [
      "enter starting interval\n",
      "1\n",
      "enter end interval\n",
      "10\n",
      "prime numbers are= 2\n",
      "prime numbers are= 3\n",
      "prime numbers are= 5\n",
      "prime numbers are= 7\n"
     ]
    }
   ],
   "source": [
    "start=int(input(\"enter starting interval\\n\"))\n",
    "end=int(input(\"enter end interval\\n\"))\n",
    "for n in range(start,end+1):\n",
    "    if n>1:\n",
    "        for a in range(2,n):\n",
    "            if(n%a)==0:\n",
    "                break\n",
    "        else:\n",
    "            print(\"prime numbers are=\",n)"
   ]
  },
  {
   "cell_type": "markdown",
   "id": "6deb6e01",
   "metadata": {},
   "source": [
    "9) Python program to check whether a number is prime or not"
   ]
  },
  {
   "cell_type": "code",
   "execution_count": 70,
   "id": "0c9e79eb",
   "metadata": {},
   "outputs": [
    {
     "name": "stdout",
     "output_type": "stream",
     "text": [
      "enter number to check prime or not\n",
      "7\n",
      "7 prime number\n"
     ]
    }
   ],
   "source": [
    "n=int(input(\"enter number to check prime or not\\n\"))\n",
    "if n>1:\n",
    "    for i in range(2,(n//2)+1):\n",
    "        if n%i==0:\n",
    "            print(n,\"not prime\")\n",
    "            break\n",
    "    else:\n",
    "        print(n,\"prime number\")\n"
   ]
  },
  {
   "cell_type": "markdown",
   "id": "ad9095cc",
   "metadata": {},
   "source": [
    "10) Python program for n-th Fibpnacci number\n"
   ]
  },
  {
   "cell_type": "code",
   "execution_count": 77,
   "id": "b78a54a8",
   "metadata": {},
   "outputs": [
    {
     "name": "stdout",
     "output_type": "stream",
     "text": [
      "enter number\n",
      "5\n",
      "Fibonacco series= 1\n",
      "Fibonacco series= 2\n",
      "Fibonacco series= 3\n",
      "Fibonacco series= 5\n"
     ]
    }
   ],
   "source": [
    "f1=0\n",
    "f2=1\n",
    "n=int(input(\"enter number\\n\"))\n",
    "for i in range(0,n-1):\n",
    "    sum=f1+f2\n",
    "    print(\"Fibonacco series=\",sum)\n",
    "    f1=f2\n",
    "    f2=sum"
   ]
  },
  {
   "cell_type": "markdown",
   "id": "afb2ec45",
   "metadata": {},
   "source": [
    "11) Python program for how to check is a given number is fibonacci number\n"
   ]
  },
  {
   "cell_type": "code",
   "execution_count": 84,
   "id": "9cd72731",
   "metadata": {},
   "outputs": [
    {
     "name": "stdout",
     "output_type": "stream",
     "text": [
      "enter number\n",
      "7\n",
      "no\n"
     ]
    }
   ],
   "source": [
    "n=int(input(\"enter number\\n\"))\n",
    "c=0\n",
    "f1=1\n",
    "f2=1\n",
    "if n==0 or n==1:\n",
    "    print(\"fibonacci number\")\n",
    "else:\n",
    "    while c<n:\n",
    "        c=f1+f2\n",
    "        f2=f1\n",
    "        f1=c\n",
    "    if c==n:\n",
    "        print(\"Fibonacci number\")\n",
    "    else:\n",
    "        print(\"no\")\n",
    "        "
   ]
  },
  {
   "cell_type": "markdown",
   "id": "bd9a09d7",
   "metadata": {},
   "source": [
    "12) Python program for n\\'th multiple of a number in Fibonacci series"
   ]
  },
  {
   "cell_type": "code",
   "execution_count": 92,
   "id": "d7844ec8",
   "metadata": {},
   "outputs": [
    {
     "name": "stdout",
     "output_type": "stream",
     "text": [
      "enter multiple number9\n",
      "enter number to find multiple4\n",
      "position of n'th multiple of k in  fibonacci series is: 54\n"
     ]
    }
   ],
   "source": [
    "n=int(input(\"enter multiple number\"))\n",
    "k=int(input(\"enter number to find multiple\"))\n",
    "def find(k,n):\n",
    "    f1=0\n",
    "    f2=1\n",
    "    i=2\n",
    "    while 1!=0:\n",
    "        f3=f1+f2\n",
    "        f1=f2\n",
    "        f2=f3\n",
    "        if f2%k==0:\n",
    "            return n*i\n",
    "        i=i+1\n",
    "    return\n",
    "print(\"position of n'th multiple of k in \" \" fibonacci series is:\",find(k,n));\n",
    "    "
   ]
  },
  {
   "cell_type": "markdown",
   "id": "f3ccb3df",
   "metadata": {},
   "source": [
    "13) Program to print ASCII value of a character"
   ]
  },
  {
   "cell_type": "code",
   "execution_count": 97,
   "id": "cc6aa410",
   "metadata": {},
   "outputs": [
    {
     "name": "stdout",
     "output_type": "stream",
     "text": [
      "enter character\n",
      "A\n",
      "ASCII value is  65\n"
     ]
    }
   ],
   "source": [
    "c=input(\"enter character\\n\")\n",
    "n=ord(c)\n",
    "print(\"ASCII value is \",n)"
   ]
  },
  {
   "cell_type": "markdown",
   "id": "105bc219",
   "metadata": {},
   "source": [
    "14) Python program for sum of squares of first n natural numbers"
   ]
  },
  {
   "cell_type": "code",
   "execution_count": 106,
   "id": "e095e9d5",
   "metadata": {},
   "outputs": [
    {
     "name": "stdout",
     "output_type": "stream",
     "text": [
      "enter number\n",
      "10\n",
      "sum 385\n"
     ]
    }
   ],
   "source": [
    "n=int(input(\"enter number\\n\"))\n",
    "sum=0\n",
    "for i in range(1,n+1):\n",
    "    sum=sum+(i*i)\n",
    "print(\"sum of squares\",sum)"
   ]
  },
  {
   "cell_type": "markdown",
   "id": "7b40cb3b",
   "metadata": {},
   "source": [
    "15) Python program for cube sum  of first n natural numbers"
   ]
  },
  {
   "cell_type": "code",
   "execution_count": 107,
   "id": "294be675",
   "metadata": {},
   "outputs": [
    {
     "name": "stdout",
     "output_type": "stream",
     "text": [
      "enter number\n",
      "5\n",
      "sum of cube 225\n"
     ]
    }
   ],
   "source": [
    "n=int(input(\"enter number\\n\"))\n",
    "sum=0\n",
    "for i in range(1,n+1):\n",
    "    sum=sum+(i*i*i)\n",
    "print(\"sum of cube\",sum)"
   ]
  },
  {
   "cell_type": "code",
   "execution_count": null,
   "id": "689bf3d6",
   "metadata": {},
   "outputs": [],
   "source": []
  }
 ],
 "metadata": {
  "kernelspec": {
   "display_name": "Python 3 (ipykernel)",
   "language": "python",
   "name": "python3"
  },
  "language_info": {
   "codemirror_mode": {
    "name": "ipython",
    "version": 3
   },
   "file_extension": ".py",
   "mimetype": "text/x-python",
   "name": "python",
   "nbconvert_exporter": "python",
   "pygments_lexer": "ipython3",
   "version": "3.9.7"
  }
 },
 "nbformat": 4,
 "nbformat_minor": 5
}
