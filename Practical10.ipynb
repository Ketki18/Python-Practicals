{
 "cells": [
  {
   "cell_type": "markdown",
   "id": "87954b79",
   "metadata": {},
   "source": [
    "1.  Simple Bike Read System"
   ]
  },
  {
   "cell_type": "code",
   "execution_count": 56,
   "id": "dbb2e613",
   "metadata": {},
   "outputs": [
    {
     "name": "stdout",
     "output_type": "stream",
     "text": [
      "***Bike Read System***\n",
      "1-Display Stock Avaiable\n",
      "2-Rent on Bike\n",
      "3-Quit\n",
      "enter choice no.2\n",
      "enter bikes requirement:- \n",
      "100\n",
      "Number of bikes given on rent=  100\n",
      "Updated stock=  400\n",
      "***Bike Read System***\n",
      "1-Display Stock Avaiable\n",
      "2-Rent on Bike\n",
      "3-Quit\n",
      "enter choice no.3\n",
      "System Quit\n"
     ]
    }
   ],
   "source": [
    "class Bike:\n",
    "    def __init__(self,stock):\n",
    "        self.stock=stock\n",
    "    \n",
    "    def displayStock(self):\n",
    "        print(\"Stock available=\",self.stock)\n",
    "            \n",
    "\n",
    "    def rentBike(self,quan):\n",
    "        self.quan=quan\n",
    "        if self.quan>self.stock:\n",
    "            print(\"stock not available\")\n",
    "        else:\n",
    "            self.stock=self.stock-self.quan\n",
    "            print(\"Number of bikes given on rent= \",self.quan)\n",
    "            print(\"Updated stock= \",self.stock)\n",
    "    def quit(self):\n",
    "        print(\"System Quit\")\n",
    "    \n",
    "    \n",
    "b=Bike(500)\n",
    "while True:\n",
    "    print(\"***Bike Read System***\")\n",
    "    print(\"1-Display Stock Avaiable\\n2-Rent on Bike\\n3-Quit\")\n",
    "    c=int(input(\"enter choice no.\"))\n",
    "    if c==1:\n",
    "        b.displayStock()\n",
    "    elif c==2:\n",
    "        quan=int(input(\"enter bikes requirement:- \\n\"))\n",
    "        b.rentBike(quan)\n",
    "    else:\n",
    "        b.quit()\n",
    "        break\n",
    "    \n",
    "    \n",
    "\n",
    "\n",
    "\n",
    "\n",
    "        \n"
   ]
  },
  {
   "cell_type": "markdown",
   "id": "b1e4bf87",
   "metadata": {},
   "source": [
    "2. A good example to demonstrate multilevel inheritance"
   ]
  },
  {
   "cell_type": "code",
   "execution_count": 59,
   "id": "e46813cf",
   "metadata": {},
   "outputs": [
    {
     "name": "stdout",
     "output_type": "stream",
     "text": [
      "addition= 300\n",
      "Subtraction= -100\n"
     ]
    }
   ],
   "source": [
    "class numbers:\n",
    "    num1=100\n",
    "    num2=200\n",
    "class addition(numbers):\n",
    "    def add(self):\n",
    "        add1=self.num1+self.num2\n",
    "        print(\"addition=\",add1)\n",
    "class subtraction(addition):\n",
    "    def sub(self):\n",
    "        sub1=self.num1-self.num2\n",
    "        print(\"Subtraction=\",sub1)\n",
    "n=subtraction()\n",
    "n.add()\n",
    "n.sub()\n",
    "    "
   ]
  },
  {
   "cell_type": "code",
   "execution_count": null,
   "id": "0e4cbff9",
   "metadata": {},
   "outputs": [],
   "source": []
  }
 ],
 "metadata": {
  "kernelspec": {
   "display_name": "Python 3 (ipykernel)",
   "language": "python",
   "name": "python3"
  },
  "language_info": {
   "codemirror_mode": {
    "name": "ipython",
    "version": 3
   },
   "file_extension": ".py",
   "mimetype": "text/x-python",
   "name": "python",
   "nbconvert_exporter": "python",
   "pygments_lexer": "ipython3",
   "version": "3.9.7"
  }
 },
 "nbformat": 4,
 "nbformat_minor": 5
}
